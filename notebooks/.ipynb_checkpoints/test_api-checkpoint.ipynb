{
 "cells": [
  {
   "cell_type": "code",
   "execution_count": 3,
   "metadata": {},
   "outputs": [],
   "source": [
    "import requests"
   ]
  },
  {
   "cell_type": "code",
   "execution_count": 1,
   "metadata": {
    "collapsed": false,
    "jupyter": {
     "outputs_hidden": false
    },
    "pycharm": {
     "name": "#%%\n"
    }
   },
   "outputs": [],
   "source": [
    "URL = \"https://ml-deployment-workshop-jw4pjw9bi-dominikriedermbw.vercel.app/predict_iris_species\"\n",
    "API_KEY = \"my-secret-key\""
   ]
  },
  {
   "cell_type": "code",
   "execution_count": 8,
   "metadata": {
    "collapsed": false,
    "jupyter": {
     "outputs_hidden": false
    },
    "pycharm": {
     "name": "#%%\n"
    }
   },
   "outputs": [
    {
     "name": "stdout",
     "output_type": "stream",
     "text": [
      "b'An error occured: 400 Bad Request: The browser (or proxy) sent a request that this server could not understand..'\n"
     ]
    }
   ],
   "source": [
    "response = requests.post(\n",
    "    url=URL,\n",
    "    headers={\n",
    "        \"api-key\": API_KEY,\n",
    "        \"Content-Type\": \"application/json\"\n",
    "    },\n",
    "    data={\n",
    "        \"sepal_length\": 5.0,\n",
    "        \"sepal_width\": 5.0,\n",
    "        \"petal_length\": 5.0,\n",
    "        \"petal_width\": 0.4\n",
    "    }\n",
    ")\n",
    "\n",
    "print(response.content)"
   ]
  },
  {
   "cell_type": "code",
   "execution_count": null,
   "metadata": {},
   "outputs": [],
   "source": []
  }
 ],
 "metadata": {
  "kernelspec": {
   "display_name": "Python 3 (ipykernel)",
   "language": "python",
   "name": "python3"
  },
  "language_info": {
   "codemirror_mode": {
    "name": "ipython",
    "version": 3
   },
   "file_extension": ".py",
   "mimetype": "text/x-python",
   "name": "python",
   "nbconvert_exporter": "python",
   "pygments_lexer": "ipython3",
   "version": "3.10.1"
  }
 },
 "nbformat": 4,
 "nbformat_minor": 4
}
